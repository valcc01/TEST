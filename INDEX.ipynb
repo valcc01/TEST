{
 "cells": [
  {
   "cell_type": "code",
   "execution_count": null,
   "id": "57bc3c61-a781-4711-b489-6a21920c47c1",
   "metadata": {},
   "outputs": [],
   "source": [
    "import pandas as pd\n",
    "\n",
    "linkGit=\"https://github.com/valcc01/TEST/raw/main/raeePeru.csv\"\n",
    "\n",
    "dataRaee=pd.read_csv(linkGit)"
   ]
  }
 ],
 "metadata": {
  "kernelspec": {
   "display_name": "Python 3 (ipykernel)",
   "language": "python",
   "name": "python3"
  },
  "language_info": {
   "codemirror_mode": {
    "name": "ipython",
    "version": 3
   },
   "file_extension": ".py",
   "mimetype": "text/x-python",
   "name": "python",
   "nbconvert_exporter": "python",
   "pygments_lexer": "ipython3",
   "version": "3.11.9"
  }
 },
 "nbformat": 4,
 "nbformat_minor": 5
}
